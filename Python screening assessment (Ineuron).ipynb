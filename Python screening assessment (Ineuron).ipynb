{
 "cells": [
  {
   "cell_type": "markdown",
   "id": "d263f6af",
   "metadata": {},
   "source": [
    "# Python Screening Assignment"
   ]
  },
  {
   "cell_type": "markdown",
   "id": "b012b9f3",
   "metadata": {},
   "source": [
    "### 1.Create a function in python to read the text file and replace specific content of the file."
   ]
  },
  {
   "cell_type": "code",
   "execution_count": 1,
   "id": "0b94b88a",
   "metadata": {},
   "outputs": [
    {
     "data": {
      "text/plain": [
       "'This is a screening assignment'"
      ]
     },
     "execution_count": 1,
     "metadata": {},
     "output_type": "execute_result"
    }
   ],
   "source": [
    "def assessment():\n",
    "    file = open(\"example.txt\",\"w\")\n",
    "    file.write(\"This is a placement assignment\")\n",
    "    file.close()\n",
    "    \n",
    "    file = open(\"example.txt\",\"r+\")\n",
    "    file.truncate(0)\n",
    "    file.write(\"Placement should be replaced by screening.\")\n",
    "    file.close()\n",
    "    \n",
    "    file = open(\"example.txt\",\"r+\")\n",
    "    file.truncate(0)\n",
    "    file.write(\"This is a screening assignment\")\n",
    "    file.close()\n",
    "    \n",
    "    file = open(\"example.txt\",\"r\")\n",
    "    return file.read()\n",
    "    file.close()\n",
    "    \n",
    "assessment()"
   ]
  },
  {
   "cell_type": "markdown",
   "id": "ab97af4e",
   "metadata": {},
   "source": [
    "### 2.Demonstrate use of abstract class, multiple inheritance and decorator in python using examples"
   ]
  },
  {
   "cell_type": "code",
   "execution_count": 27,
   "id": "341980ea",
   "metadata": {},
   "outputs": [
    {
     "name": "stdout",
     "output_type": "stream",
     "text": [
      "i have 3 sides\n",
      "i have 4 sides\n",
      "i have 5 sides\n"
     ]
    }
   ],
   "source": [
    "#Abstract Class\n",
    "from abc import ABC, abstractmethod\n",
    "\n",
    "class shapes(ABC):\n",
    "    @abstractmethod\n",
    "    \n",
    "    def no_of_sides(self):\n",
    "        pass\n",
    "    \n",
    "class triangle(shapes):\n",
    "    def no_of_sides(self):\n",
    "        print(\"i have 3 sides\")\n",
    "        \n",
    "class square(shapes):\n",
    "    def no_of_sides(self):\n",
    "        print(\"i have 4 sides\")\n",
    "    \n",
    "class pentagon(shapes):\n",
    "    def no_of_sides(self):\n",
    "        print(\"i have 5 sides\")\n",
    "        \n",
    "shape1 = triangle()\n",
    "shape2 = square()\n",
    "shape3 = pentagon()\n",
    "\n",
    "for shape in (shape1,shape2,shape3):\n",
    "    shape.no_of_sides()"
   ]
  },
  {
   "cell_type": "code",
   "execution_count": 28,
   "id": "30509504",
   "metadata": {},
   "outputs": [
    {
     "name": "stdout",
     "output_type": "stream",
     "text": [
      "hayabusa is a bike\n",
      "lamborghini is a car\n",
      "plane is a mode of air transportation\n",
      "ship is a mode of water transportation\n"
     ]
    },
    {
     "data": {
      "text/plain": [
       "'These all are mode of transportation'"
      ]
     },
     "execution_count": 28,
     "metadata": {},
     "output_type": "execute_result"
    }
   ],
   "source": [
    "#Multiple inheritence\n",
    "class Bike:\n",
    "    def bike(self):\n",
    "        print(\"hayabusa is a bike\")\n",
    "class Car:\n",
    "    def car(self):\n",
    "        print(\"lamborghini is a car\")\n",
    "class Aeroplane:\n",
    "    def plane(self):\n",
    "        print(\"plane is a mode of air transportation\")\n",
    "class Ship:\n",
    "    def boat(self):\n",
    "        print(\"ship is a mode of water transportation\")\n",
    "        \n",
    "class Transport(Bike,Car,Aeroplane,Ship):\n",
    "    def transport(self):\n",
    "        return \"These all are mode of transportation\"\n",
    "\n",
    "vehicle = Transport()\n",
    "vehicle.bike()\n",
    "vehicle.car()\n",
    "vehicle.plane()\n",
    "vehicle.boat()\n",
    "vehicle.transport()"
   ]
  },
  {
   "cell_type": "code",
   "execution_count": 29,
   "id": "9aceb103",
   "metadata": {},
   "outputs": [
    {
     "name": "stdout",
     "output_type": "stream",
     "text": [
      "Hello i am Ravindra\n",
      "I have completed B.sc\n",
      "After my studies i joined Ineuron\n"
     ]
    }
   ],
   "source": [
    "#Decorator\n",
    "\n",
    "def message(msg):\n",
    "    def sub_message():\n",
    "        print(\"Hello i am Ravindra\")\n",
    "        msg()\n",
    "        print(\"After my studies i joined Ineuron\")\n",
    "    return sub_message()\n",
    "\n",
    "@message\n",
    "def main():\n",
    "    print(\"I have completed B.sc\")"
   ]
  },
  {
   "cell_type": "code",
   "execution_count": null,
   "id": "edca403d",
   "metadata": {},
   "outputs": [],
   "source": []
  }
 ],
 "metadata": {
  "kernelspec": {
   "display_name": "Python 3",
   "language": "python",
   "name": "python3"
  },
  "language_info": {
   "codemirror_mode": {
    "name": "ipython",
    "version": 3
   },
   "file_extension": ".py",
   "mimetype": "text/x-python",
   "name": "python",
   "nbconvert_exporter": "python",
   "pygments_lexer": "ipython3",
   "version": "3.8.8"
  }
 },
 "nbformat": 4,
 "nbformat_minor": 5
}
